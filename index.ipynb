{
 "cells": [
  {
   "cell_type": "markdown",
   "metadata": {},
   "source": [
    "## cout<<\n",
    "It prints output on the screen"
   ]
  },
  {
   "cell_type": "markdown",
   "metadata": {},
   "source": [
    "## cin>> \n",
    "It takes input from the user "
   ]
  },
  {
   "cell_type": "code",
   "execution_count": null,
   "metadata": {},
   "outputs": [],
   "source": [
    "int var;\n",
    "cin>>var;"
   ]
  },
  {
   "cell_type": "markdown",
   "metadata": {},
   "source": [
    "## Types of comments \n",
    "- Single-lined \n",
    "   We use //Ollah\n",
    "   \n",
    "- Multi-lined\n",
    "   We use /* This is a \n",
    "   multi-line comment*/"
   ]
  },
  {
   "cell_type": "markdown",
   "metadata": {},
   "source": [
    "## Data types \n",
    "- integers (int)\n",
    "   take 4bytes of memory\n",
    "- characters (char)\n",
    "   take 1 byte of memory\n",
    "- floating point (float)\n",
    "   takes 4bytes of memory and stores single-precision point numbers \n",
    "- double (double)\n",
    "   takes 8 bytes of memory and stores double-precisio floating point numbers \n",
    "- boolean (boolean)\n",
    "   stores logical values that can be either true or false \n",
    "- string (string)\n",
    "   we have to include string header file for this\n",
    "\n",
    "   "
   ]
  },
  {
   "cell_type": "code",
   "execution_count": null,
   "metadata": {},
   "outputs": [],
   "source": [
    "#include <string>"
   ]
  },
  {
   "cell_type": "markdown",
   "metadata": {},
   "source": [
    "## New lines \n",
    "- we can use endl or \\n\n"
   ]
  },
  {
   "cell_type": "code",
   "execution_count": null,
   "metadata": {},
   "outputs": [],
   "source": [
    "cout<< \"Hello World \\n\";\n",
    "cout<< \"Hello World\"<<endl;"
   ]
  },
  {
   "cell_type": "markdown",
   "metadata": {},
   "source": [
    "## Tab\n",
    "- gives a tab space\n",
    "  \\t"
   ]
  },
  {
   "cell_type": "markdown",
   "metadata": {},
   "source": [
    "- a constructor is a special function of a class that is automaically called when an object of that class is instantiated. It's purpose is to initialize the object's members and set up the object to a valid state. they have the same name as the class and no return type not even a void.\n",
    "- if you define a class without specifying an access specifier the default access level is `private`, unless explicitly marked otherwise.\n",
    "- in contrast, if you define struct without specifying an access specifier, the default access level is `public`. All members within the struct will be consiidered public unless explicitly marked otherwise.\n",
    "- in c++ `struct` is a user defined data type that can hold multiple members with different data types.\n",
    "- in c++ `new` operator is used to dynamically allocate memory for objects(instances of classes or primitive data types). dynamically allocated memory is memory that is allocated at runtime(during program execution rather than being statically allocated at compile time).\n",
    "- the `new` operator returns a pointer to the allocated memory. this pointer can then be stored in a pointer variable allowing you to access and manipulate dynamically allocated object or array.\n",
    "- when you allocate memory using the `new`, it is your responsibility to deallocate it when it is no longert needed using the `delete` operator. failing to do so can lead to memory leaks.\n",
    "-`int* arr= new int[10]`- this declares a pointer named arr of type int, which means a pointer to an integer. this dynamically allocates memory on the heap to store an array of ten integers. the new operator will return a pointer to the first element of the array.arr is a pointer but it is also used to represent the dynamically allocated array of integers. you can use arr  to access andf manipulate elements of the array.\n",
    "- compile time - refers to the period during which the source code of a program is translated into machine code by a compiler. it translates high  level code into low level machiune code specific to the target platform.\n",
    "- run time- period durig which a compiled program is executed by the processor.\n"
   ]
  },
  {
   "cell_type": "code",
   "execution_count": null,
   "metadata": {},
   "outputs": [],
   "source": [
    "\"\"\"when you have a pointert to an object and you want to access a member of that object use the -> operator\n",
    "e.g.\n",
    "\"\"\"\n",
    "MyClass* ptr= new MyClass();\n",
    "ptr->memberFunction();// accesssing member function through pointer\n",
    "int value=ptr->dataMember;//accessing data member through pointer\n"
   ]
  }
 ],
 "metadata": {
  "language_info": {
   "name": "python"
  }
 },
 "nbformat": 4,
 "nbformat_minor": 2
}
