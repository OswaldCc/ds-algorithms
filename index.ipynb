{
 "cells": [
  {
   "cell_type": "markdown",
   "metadata": {},
   "source": [
    "## cout<<\n",
    "It prints output on the screen"
   ]
  },
  {
   "cell_type": "markdown",
   "metadata": {},
   "source": [
    "## cin>> \n",
    "It takes input from the user "
   ]
  },
  {
   "cell_type": "code",
   "execution_count": null,
   "metadata": {},
   "outputs": [],
   "source": [
    "int var;\n",
    "cin>>var;"
   ]
  },
  {
   "cell_type": "markdown",
   "metadata": {},
   "source": [
    "## Types of comments \n",
    "- Single-lined \n",
    "   We use //Ollah\n",
    "   \n",
    "- Multi-lined\n",
    "   We use /* This is a \n",
    "   multi-line comment*/"
   ]
  },
  {
   "cell_type": "markdown",
   "metadata": {},
   "source": [
    "## Data types \n",
    "- integers (int)\n",
    "   take 4bytes of memory\n",
    "- characters (char)\n",
    "   take 1 byte of memory\n",
    "- floating point (float)\n",
    "   takes 4bytes of memory and stores single-precision point numbers \n",
    "- double (double)\n",
    "   takes 8 bytes of memory and stores double-precisio floating point numbers \n",
    "- boolean (boolean)\n",
    "   stores logical values that can be either true or false \n",
    "- string (string)\n",
    "   we have to include string header file for this\n",
    "\n",
    "   "
   ]
  },
  {
   "cell_type": "code",
   "execution_count": null,
   "metadata": {},
   "outputs": [],
   "source": [
    "#include <string>"
   ]
  },
  {
   "cell_type": "markdown",
   "metadata": {},
   "source": [
    "## New lines \n",
    "- we can use endl or \\n\n"
   ]
  },
  {
   "cell_type": "code",
   "execution_count": null,
   "metadata": {},
   "outputs": [],
   "source": [
    "cout<< \"Hello World \\n\";\n",
    "cout<< \"Hello World\"<<endl;"
   ]
  },
  {
   "cell_type": "markdown",
   "metadata": {},
   "source": [
    "## Tab\n",
    "- gives a tab space\n",
    "  \\t"
   ]
  },
  {
   "cell_type": "code",
   "execution_count": null,
   "metadata": {},
   "outputs": [],
   "source": []
  }
 ],
 "metadata": {
  "language_info": {
   "name": "python"
  }
 },
 "nbformat": 4,
 "nbformat_minor": 2
}
